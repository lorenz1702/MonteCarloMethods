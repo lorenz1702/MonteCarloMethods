{
 "cells": [
  {
   "cell_type": "markdown",
   "metadata": {},
   "source": [
    "1. Choose derised probability distribution $P$\n",
    "2. Compute acceptance matrix $$A(i,j) = min(1,\\dfrac{P(j)}{P(i)})$$\n",
    "3. Compute transition matrix $$T(i,j) = g(i,j) A(i,j) , i \\neq j$$\n",
    "$$T(i,j) = g(i,j) A(i,j) + \\sum_{k \\neq i} g(i,k)(1-A(i,k)) , i = j$$\n",
    "where we choose $g$ is uniform distribution, i.e $g(i \\rightarrow j) = 1/N$ for all $i,j$. \n",
    "\n",
    "4. Use the transition matrix, compute equilibrium probaility $P^{eq}$ to check if it consistents with derised probability.."
   ]
  },
  {
   "cell_type": "code",
   "execution_count": 2,
   "metadata": {},
   "outputs": [],
   "source": [
    "import numpy as np \n",
    "import matplotlib.pyplot as plt"
   ]
  },
  {
   "cell_type": "code",
   "execution_count": 61,
   "metadata": {},
   "outputs": [],
   "source": [
    "#generate acceptance probability matrix\n",
    "def acceptance_matrix(P,N):\n",
    "    P_acc = np.zeros((N,N))\n",
    "    for i in range(N):\n",
    "        for j in range(N):\n",
    "            if (P[i]==0):\n",
    "                P_acc[i][j] = 1\n",
    "                \n",
    "            else:\n",
    "                P_acc[i][j] = min(1,P[j]/P[i])\n",
    "    return P_acc"
   ]
  },
  {
   "cell_type": "code",
   "execution_count": 63,
   "metadata": {},
   "outputs": [
    {
     "name": "stdout",
     "output_type": "stream",
     "text": [
      "[[1.   0.4  0.1  0.1  0.4 ]\n",
      " [1.   1.   0.25 0.25 1.  ]\n",
      " [1.   1.   1.   1.   1.  ]\n",
      " [1.   1.   1.   1.   1.  ]\n",
      " [1.   1.   0.25 0.25 1.  ]]\n"
     ]
    }
   ],
   "source": [
    "P = np.array([0.5,0.2,0.05,0.05,0.2]) #given a derised probability    \n",
    "N=5 #number of states\n",
    "P_acc = acceptance_matrix(P,N)\n",
    "print(P_acc)  "
   ]
  },
  {
   "cell_type": "markdown",
   "metadata": {},
   "source": [
    "# Using transition matrix"
   ]
  },
  {
   "cell_type": "code",
   "execution_count": 64,
   "metadata": {},
   "outputs": [],
   "source": [
    "#compute transition matrix from acceptance matrix\n",
    "def transition_matrix(P_acc,N):\n",
    "    #compute transition matrix\n",
    "    T = np.zeros((N,N))\n",
    "    T=1/5*P_acc\n",
    "    for i in range(N):\n",
    "        for k in range(N):\n",
    "            if (i!=k):\n",
    "                T[i][i] +=1/5*(1-P_acc[i][k])\n",
    "    return T"
   ]
  },
  {
   "cell_type": "code",
   "execution_count": 65,
   "metadata": {},
   "outputs": [
    {
     "data": {
      "text/plain": [
       "array([[0.8 , 0.08, 0.02, 0.02, 0.08],\n",
       "       [0.2 , 0.5 , 0.05, 0.05, 0.2 ],\n",
       "       [0.2 , 0.2 , 0.2 , 0.2 , 0.2 ],\n",
       "       [0.2 , 0.2 , 0.2 , 0.2 , 0.2 ],\n",
       "       [0.2 , 0.2 , 0.05, 0.05, 0.5 ]])"
      ]
     },
     "execution_count": 65,
     "metadata": {},
     "output_type": "execute_result"
    }
   ],
   "source": [
    "#print transition matrix  \n",
    "transition_matrix(P_acc,5)   "
   ]
  },
  {
   "cell_type": "code",
   "execution_count": 66,
   "metadata": {},
   "outputs": [
    {
     "data": {
      "text/plain": [
       "array([0.5 , 0.2 , 0.05, 0.05, 0.2 ])"
      ]
     },
     "execution_count": 66,
     "metadata": {},
     "output_type": "execute_result"
    }
   ],
   "source": [
    "# check the correctness of transition matrix, follow all step in tutorial 3\n",
    "def probability(init_prob,trans_mat,num_chain=64):\n",
    "    if (num_chain ==0):\n",
    "        next_prob = init_prob\n",
    "    else:\n",
    "        for i in range(num_chain):\n",
    "            next_prob = init_prob.dot(trans_mat)\n",
    "            # print(next_prob)\n",
    "            init_prob = next_prob\n",
    "    return init_prob\n",
    "\n",
    "init_prob = np.array([1/2,1/2,0,0,0])\n",
    "trans_mat = transition_matrix(P_acc,5)\n",
    "probability(init_prob,trans_mat)"
   ]
  },
  {
   "cell_type": "markdown",
   "metadata": {},
   "source": [
    "# second way using Markov chain"
   ]
  },
  {
   "cell_type": "markdown",
   "metadata": {},
   "source": [
    "1. Compute acceptance matrix $$A(i,j) = min(1,\\dfrac{P(j)}{P(i)})$$\n",
    "2. Generate an initial random state $s_i$\n",
    "3. Generate a proposed state $s_j$ with probability $p$.\n",
    "4. Compare $p$ and $A(i \\rightarrow j)$:\n",
    "+ $p<= A(i \\rightarrow j)$ : accept $s_j$\n",
    "+ $p > A(i \\rightarrow j)$ : reject, keep same state $s_i$\n",
    "5. Repeat this proceture and compute observale."
   ]
  },
  {
   "cell_type": "code",
   "execution_count": 67,
   "metadata": {},
   "outputs": [],
   "source": [
    "#generate a random state\n",
    "def random_state():\n",
    "    n = np.random.uniform(0,1)\n",
    "    if (n < 0.2):\n",
    "        s= 0\n",
    "    elif (0.2 <= n <0.4):\n",
    "        s= 1 \n",
    "    elif (0.4 <= n <0.6):\n",
    "        s= 2\n",
    "    elif (0.6 <= n <0.8):\n",
    "        s= 3\n",
    "    else:\n",
    "        s= 4\n",
    "    return s"
   ]
  },
  {
   "cell_type": "code",
   "execution_count": 68,
   "metadata": {},
   "outputs": [
    {
     "name": "stdout",
     "output_type": "stream",
     "text": [
      "iteration= 100000\n",
      "acceptance= 0.5809341906580934\n",
      "observable= 1.2496075039249608 +- 0.004993691617214648\n",
      "------------------\n",
      "iteration= 200000\n",
      "acceptance= 0.5830470847645762\n",
      "observable= 1.2594887025564871 +- 0.0035326833404708447\n",
      "------------------\n",
      "iteration= 300000\n",
      "acceptance= 0.582374725417582\n",
      "observable= 1.2577424741917527 +- 0.0028844113336702905\n",
      "------------------\n",
      "iteration= 400000\n",
      "acceptance= 0.581281046797383\n",
      "observable= 1.2575068562328595 +- 0.002497979219990956\n",
      "------------------\n",
      "iteration= 500000\n",
      "acceptance= 0.5811468377063246\n",
      "observable= 1.2535614928770142 +- 0.002231540490866\n",
      "------------------\n",
      "iteration= 600000\n",
      "acceptance= 0.5808656985571691\n",
      "observable= 1.2530195783007028 +- 0.002037783115097025\n",
      "------------------\n",
      "iteration= 700000\n",
      "acceptance= 0.5810577413460838\n",
      "observable= 1.2540953512923554 +- 0.0018870951851708696\n",
      "------------------\n",
      "iteration= 800000\n",
      "acceptance= 0.5813767732790334\n",
      "observable= 1.2554059307425867 +- 0.0017656807269933173\n",
      "------------------\n",
      "iteration= 900000\n",
      "acceptance= 0.5810293544118285\n",
      "observable= 1.2534919405645104 +- 0.001663660105296663\n",
      "------------------\n"
     ]
    }
   ],
   "source": [
    "# compute observable after n-steps\n",
    "def markov_chain(P_acc,iterations =1000000):\n",
    "    #generate an initial random_state\n",
    "    s = random_state()\n",
    "    o = 0 #observale\n",
    "    acc = 0 #number of acceptance\n",
    "    oe =0 #observale's error\n",
    "    for iter in range(iterations):       \n",
    "        #generate a next state\n",
    "        sp = random_state()\n",
    "        n = np.random.uniform(0,1)\n",
    "        if (n < P_acc[s][sp]):\n",
    "            acc +=1\n",
    "            s = sp\n",
    "        o += s\n",
    "        oe += s**2\n",
    "        \n",
    "        if (iter%100000 ==0)&(iter!=0): \n",
    "            print(\"iteration=\",iter)\n",
    "            print(\"acceptance=\",acc/(iter+1))\n",
    "            print(\"observable=\",o/(iter+1),\"+-\",np.sqrt(((iter+1)*oe-o**2)/(iter+1))/(iter+1))\n",
    "            print('-'*18)\n",
    "markov_chain(P_acc)"
   ]
  }
 ],
 "metadata": {
  "kernelspec": {
   "display_name": "Python 3 (ipykernel)",
   "language": "python",
   "name": "python3"
  },
  "language_info": {
   "codemirror_mode": {
    "name": "ipython",
    "version": 3
   },
   "file_extension": ".py",
   "mimetype": "text/x-python",
   "name": "python",
   "nbconvert_exporter": "python",
   "pygments_lexer": "ipython3",
   "version": "3.12.9"
  }
 },
 "nbformat": 4,
 "nbformat_minor": 4
}
